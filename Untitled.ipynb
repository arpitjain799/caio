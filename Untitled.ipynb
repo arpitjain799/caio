{
 "cells": [
  {
   "cell_type": "code",
   "execution_count": 3,
   "metadata": {},
   "outputs": [],
   "source": [
    "import matplotlib.pyplot as plt\n",
    "plt.ion()\n",
    "\n",
    "%matplotlib inline\n",
    "\n",
    "import pandas as pd"
   ]
  },
  {
   "cell_type": "code",
   "execution_count": 85,
   "metadata": {},
   "outputs": [],
   "source": [
    "converters = {\n",
    "    \"min\": lambda x: int(x) / 1000000,\n",
    "    \"max\": lambda x: int(x) / 1000000,\n",
    "    \"median\": lambda x: int(x) / 1000000,\n",
    "    \"total\": lambda x: int(x) / 1000000,\n",
    "}\n",
    "\n",
    "data = pd.read_csv('linux_aio.csv', sep=';', converters=converters)"
   ]
  },
  {
   "cell_type": "code",
   "execution_count": 86,
   "metadata": {},
   "outputs": [
    {
     "data": {
      "text/html": [
       "<div>\n",
       "<style scoped>\n",
       "    .dataframe tbody tr th:only-of-type {\n",
       "        vertical-align: middle;\n",
       "    }\n",
       "\n",
       "    .dataframe tbody tr th {\n",
       "        vertical-align: top;\n",
       "    }\n",
       "\n",
       "    .dataframe thead th {\n",
       "        text-align: right;\n",
       "    }\n",
       "</style>\n",
       "<table border=\"1\" class=\"dataframe\">\n",
       "  <thead>\n",
       "    <tr style=\"text-align: right;\">\n",
       "      <th></th>\n",
       "      <th>nr</th>\n",
       "      <th>min</th>\n",
       "      <th>median</th>\n",
       "      <th>max</th>\n",
       "      <th>op/s</th>\n",
       "      <th>total</th>\n",
       "      <th>#ops</th>\n",
       "      <th>chunk</th>\n",
       "    </tr>\n",
       "  </thead>\n",
       "  <tbody>\n",
       "    <tr>\n",
       "      <th>0</th>\n",
       "      <td>512</td>\n",
       "      <td>2.528064</td>\n",
       "      <td>2.540226</td>\n",
       "      <td>2.545157</td>\n",
       "      <td>175</td>\n",
       "      <td>2.551131</td>\n",
       "      <td>448</td>\n",
       "      <td>1048576</td>\n",
       "    </tr>\n",
       "    <tr>\n",
       "      <th>1</th>\n",
       "      <td>512</td>\n",
       "      <td>0.917390</td>\n",
       "      <td>0.920148</td>\n",
       "      <td>0.925875</td>\n",
       "      <td>479</td>\n",
       "      <td>0.933759</td>\n",
       "      <td>448</td>\n",
       "      <td>1048576</td>\n",
       "    </tr>\n",
       "    <tr>\n",
       "      <th>2</th>\n",
       "      <td>512</td>\n",
       "      <td>0.268401</td>\n",
       "      <td>0.270224</td>\n",
       "      <td>0.272788</td>\n",
       "      <td>1617</td>\n",
       "      <td>0.277038</td>\n",
       "      <td>448</td>\n",
       "      <td>1048576</td>\n",
       "    </tr>\n",
       "    <tr>\n",
       "      <th>3</th>\n",
       "      <td>512</td>\n",
       "      <td>0.340724</td>\n",
       "      <td>0.346327</td>\n",
       "      <td>0.350465</td>\n",
       "      <td>1260</td>\n",
       "      <td>0.355505</td>\n",
       "      <td>448</td>\n",
       "      <td>1048576</td>\n",
       "    </tr>\n",
       "    <tr>\n",
       "      <th>4</th>\n",
       "      <td>512</td>\n",
       "      <td>0.801022</td>\n",
       "      <td>0.803461</td>\n",
       "      <td>0.893382</td>\n",
       "      <td>636</td>\n",
       "      <td>0.905303</td>\n",
       "      <td>576</td>\n",
       "      <td>1048576</td>\n",
       "    </tr>\n",
       "  </tbody>\n",
       "</table>\n",
       "</div>"
      ],
      "text/plain": [
       "    nr       min    median       max  op/s     total  #ops    chunk\n",
       "0  512  2.528064  2.540226  2.545157   175  2.551131   448  1048576\n",
       "1  512  0.917390  0.920148  0.925875   479  0.933759   448  1048576\n",
       "2  512  0.268401  0.270224  0.272788  1617  0.277038   448  1048576\n",
       "3  512  0.340724  0.346327  0.350465  1260  0.355505   448  1048576\n",
       "4  512  0.801022  0.803461  0.893382   636  0.905303   576  1048576"
      ]
     },
     "execution_count": 86,
     "metadata": {},
     "output_type": "execute_result"
    }
   ],
   "source": [
    "data.head()"
   ]
  },
  {
   "cell_type": "code",
   "execution_count": 88,
   "metadata": {},
   "outputs": [
    {
     "data": {
      "text/plain": [
       "[<matplotlib.lines.Line2D at 0x7fd2e61ada60>]"
      ]
     },
     "execution_count": 88,
     "metadata": {},
     "output_type": "execute_result"
    },
    {
     "data": {
      "image/png": "[encoded data removed]",
      "text/plain": [
       "<Figure size 432x288 with 1 Axes>"
      ]
     },
     "metadata": {
      "needs_background": "light"
     },
     "output_type": "display_data"
    }
   ],
   "source": [
    "plt.plot(data['total'])"
   ]
  },
  {
   "cell_type": "code",
   "execution_count": 25,
   "metadata": {},
   "outputs": [
    {
     "data": {
      "text/plain": [
       "[0.049626,\n",
       " 0.027553,\n",
       " 0.016736,\n",
       " 0.01747,\n",
       " 0.069259,\n",
       " 0.079772,\n",
       " 0.064895,\n",
       " 0.071979,\n",
       " 0.010174,\n",
       " 0.005028,\n",
       " 0.00539,\n",
       " 0.006472,\n",
       " 0.530667,\n",
       " 0.023666,\n",
       " 0.02443,\n",
       " 0.021102,\n",
       " 0.08121,\n",
       " 0.063148,\n",
       " 0.051389,\n",
       " 0.08192,\n",
       " 0.645341,\n",
       " 0.31558,\n",
       " 0.603141,\n",
       " 0.814127,\n",
       " 2.041016,\n",
       " 0.55493,\n",
       " 1.131114,\n",
       " 0.66707,\n",
       " 0.595112,\n",
       " 1.980862,\n",
       " 3.025539,\n",
       " 2.799889,\n",
       " 2.197018,\n",
       " 0.974071,\n",
       " 1.83812,\n",
       " 1.910417,\n",
       " 5.999463,\n",
       " 3.854041,\n",
       " 5.694671,\n",
       " 4.55674,\n",
       " 4.287375,\n",
       " 6.23986,\n",
       " 5.668729,\n",
       " 3.527469,\n",
       " 8.090272,\n",
       " 7.239264,\n",
       " 9.787555,\n",
       " 6.376578,\n",
       " 33.72413,\n",
       " 28.216483,\n",
       " 32.994455,\n",
       " 33.622487,\n",
       " 63.656358,\n",
       " 59.986196,\n",
       " 59.947125]"
      ]
     },
     "execution_count": 25,
     "metadata": {},
     "output_type": "execute_result"
    }
   ],
   "source": []
  },
  {
   "cell_type": "code",
   "execution_count": null,
   "metadata": {},
   "outputs": [],
   "source": []
  }
 ],
 "metadata": {
  "kernelspec": {
   "display_name": "Python 3",
   "language": "python",
   "name": "python3"
  },
  "language_info": {
   "codemirror_mode": {
    "name": "ipython",
    "version": 3
   },
   "file_extension": ".py",
   "mimetype": "text/x-python",
   "name": "python",
   "nbconvert_exporter": "python",
   "pygments_lexer": "ipython3",
   "version": "3.8.1"
  }
 },
 "nbformat": 4,
 "nbformat_minor": 4
}
